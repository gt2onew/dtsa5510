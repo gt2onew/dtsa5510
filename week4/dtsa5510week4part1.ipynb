{
  "nbformat": 4,
  "nbformat_minor": 0,
  "metadata": {
    "colab": {
      "name": "dtsa5510week4part1.ipynb",
      "provenance": [],
      "collapsed_sections": []
    },
    "kernelspec": {
      "name": "python3",
      "display_name": "Python 3"
    },
    "language_info": {
      "name": "python"
    }
  },
  "cells": [
    {
      "cell_type": "markdown",
      "source": [
        "Kaggle Competition: BBC News Classification    \n",
        "A Jupyter notebook with exploratory data analysis (EDA) procedure, model building and training, and comparison with supervised learning. \n",
        "\n"
      ],
      "metadata": {
        "id": "xNfsEheWQWC7"
      }
    },
    {
      "cell_type": "code",
      "execution_count": 58,
      "metadata": {
        "id": "lFpdE9ju-RpS"
      },
      "outputs": [],
      "source": [
        "import pandas as pd\n",
        "import numpy as np\n",
        "import matplotlib.pyplot as plt\n",
        "%matplotlib inline\n"
      ]
    },
    {
      "cell_type": "code",
      "source": [
        "import warnings\n",
        "warnings.filterwarnings('ignore')"
      ],
      "metadata": {
        "id": "hbl8UMnABmhN"
      },
      "execution_count": 59,
      "outputs": []
    },
    {
      "cell_type": "markdown",
      "source": [
        "csv files have been downloaded from kaggle and uploaded to my github repo so we can read_csv from http link"
      ],
      "metadata": {
        "id": "qsXJGydaQkWC"
      }
    },
    {
      "cell_type": "code",
      "source": [
        "df_train = pd.read_csv(\"https://raw.githubusercontent.com/gt2onew/dtsa5510/main/week4/BBC%20News%20Train.csv\")"
      ],
      "metadata": {
        "id": "VkoqfbT_-tNQ"
      },
      "execution_count": 60,
      "outputs": []
    },
    {
      "cell_type": "code",
      "source": [
        "df_test = pd.read_csv(\"https://raw.githubusercontent.com/gt2onew/dtsa5510/main/week4/BBC%20News%20Test.csv\")"
      ],
      "metadata": {
        "id": "XGOcQ6y8-2mS"
      },
      "execution_count": 61,
      "outputs": []
    },
    {
      "cell_type": "markdown",
      "source": [
        "# Exploratory Data Analysis (EDA)"
      ],
      "metadata": {
        "id": "M4CvqfaWRXph"
      }
    },
    {
      "cell_type": "markdown",
      "source": [
        "## Inspect"
      ],
      "metadata": {
        "id": "RsXQbK07RhBX"
      }
    },
    {
      "cell_type": "code",
      "source": [
        "df_train.head()"
      ],
      "metadata": {
        "colab": {
          "base_uri": "https://localhost:8080/",
          "height": 206
        },
        "id": "nvnVT6RK_KB0",
        "outputId": "821a84c1-3aaa-4453-e252-f41e7ebc0227"
      },
      "execution_count": 62,
      "outputs": [
        {
          "output_type": "execute_result",
          "data": {
            "text/plain": [
              "   ArticleId                                               Text  Category\n",
              "0       1833  worldcom ex-boss launches defence lawyers defe...  business\n",
              "1        154  german business confidence slides german busin...  business\n",
              "2       1101  bbc poll indicates economic gloom citizens in ...  business\n",
              "3       1976  lifestyle  governs mobile choice  faster  bett...      tech\n",
              "4        917  enron bosses in $168m payout eighteen former e...  business"
            ],
            "text/html": [
              "\n",
              "  <div id=\"df-363e5338-ab0f-4d22-a734-136abd399410\">\n",
              "    <div class=\"colab-df-container\">\n",
              "      <div>\n",
              "<style scoped>\n",
              "    .dataframe tbody tr th:only-of-type {\n",
              "        vertical-align: middle;\n",
              "    }\n",
              "\n",
              "    .dataframe tbody tr th {\n",
              "        vertical-align: top;\n",
              "    }\n",
              "\n",
              "    .dataframe thead th {\n",
              "        text-align: right;\n",
              "    }\n",
              "</style>\n",
              "<table border=\"1\" class=\"dataframe\">\n",
              "  <thead>\n",
              "    <tr style=\"text-align: right;\">\n",
              "      <th></th>\n",
              "      <th>ArticleId</th>\n",
              "      <th>Text</th>\n",
              "      <th>Category</th>\n",
              "    </tr>\n",
              "  </thead>\n",
              "  <tbody>\n",
              "    <tr>\n",
              "      <th>0</th>\n",
              "      <td>1833</td>\n",
              "      <td>worldcom ex-boss launches defence lawyers defe...</td>\n",
              "      <td>business</td>\n",
              "    </tr>\n",
              "    <tr>\n",
              "      <th>1</th>\n",
              "      <td>154</td>\n",
              "      <td>german business confidence slides german busin...</td>\n",
              "      <td>business</td>\n",
              "    </tr>\n",
              "    <tr>\n",
              "      <th>2</th>\n",
              "      <td>1101</td>\n",
              "      <td>bbc poll indicates economic gloom citizens in ...</td>\n",
              "      <td>business</td>\n",
              "    </tr>\n",
              "    <tr>\n",
              "      <th>3</th>\n",
              "      <td>1976</td>\n",
              "      <td>lifestyle  governs mobile choice  faster  bett...</td>\n",
              "      <td>tech</td>\n",
              "    </tr>\n",
              "    <tr>\n",
              "      <th>4</th>\n",
              "      <td>917</td>\n",
              "      <td>enron bosses in $168m payout eighteen former e...</td>\n",
              "      <td>business</td>\n",
              "    </tr>\n",
              "  </tbody>\n",
              "</table>\n",
              "</div>\n",
              "      <button class=\"colab-df-convert\" onclick=\"convertToInteractive('df-363e5338-ab0f-4d22-a734-136abd399410')\"\n",
              "              title=\"Convert this dataframe to an interactive table.\"\n",
              "              style=\"display:none;\">\n",
              "        \n",
              "  <svg xmlns=\"http://www.w3.org/2000/svg\" height=\"24px\"viewBox=\"0 0 24 24\"\n",
              "       width=\"24px\">\n",
              "    <path d=\"M0 0h24v24H0V0z\" fill=\"none\"/>\n",
              "    <path d=\"M18.56 5.44l.94 2.06.94-2.06 2.06-.94-2.06-.94-.94-2.06-.94 2.06-2.06.94zm-11 1L8.5 8.5l.94-2.06 2.06-.94-2.06-.94L8.5 2.5l-.94 2.06-2.06.94zm10 10l.94 2.06.94-2.06 2.06-.94-2.06-.94-.94-2.06-.94 2.06-2.06.94z\"/><path d=\"M17.41 7.96l-1.37-1.37c-.4-.4-.92-.59-1.43-.59-.52 0-1.04.2-1.43.59L10.3 9.45l-7.72 7.72c-.78.78-.78 2.05 0 2.83L4 21.41c.39.39.9.59 1.41.59.51 0 1.02-.2 1.41-.59l7.78-7.78 2.81-2.81c.8-.78.8-2.07 0-2.86zM5.41 20L4 18.59l7.72-7.72 1.47 1.35L5.41 20z\"/>\n",
              "  </svg>\n",
              "      </button>\n",
              "      \n",
              "  <style>\n",
              "    .colab-df-container {\n",
              "      display:flex;\n",
              "      flex-wrap:wrap;\n",
              "      gap: 12px;\n",
              "    }\n",
              "\n",
              "    .colab-df-convert {\n",
              "      background-color: #E8F0FE;\n",
              "      border: none;\n",
              "      border-radius: 50%;\n",
              "      cursor: pointer;\n",
              "      display: none;\n",
              "      fill: #1967D2;\n",
              "      height: 32px;\n",
              "      padding: 0 0 0 0;\n",
              "      width: 32px;\n",
              "    }\n",
              "\n",
              "    .colab-df-convert:hover {\n",
              "      background-color: #E2EBFA;\n",
              "      box-shadow: 0px 1px 2px rgba(60, 64, 67, 0.3), 0px 1px 3px 1px rgba(60, 64, 67, 0.15);\n",
              "      fill: #174EA6;\n",
              "    }\n",
              "\n",
              "    [theme=dark] .colab-df-convert {\n",
              "      background-color: #3B4455;\n",
              "      fill: #D2E3FC;\n",
              "    }\n",
              "\n",
              "    [theme=dark] .colab-df-convert:hover {\n",
              "      background-color: #434B5C;\n",
              "      box-shadow: 0px 1px 3px 1px rgba(0, 0, 0, 0.15);\n",
              "      filter: drop-shadow(0px 1px 2px rgba(0, 0, 0, 0.3));\n",
              "      fill: #FFFFFF;\n",
              "    }\n",
              "  </style>\n",
              "\n",
              "      <script>\n",
              "        const buttonEl =\n",
              "          document.querySelector('#df-363e5338-ab0f-4d22-a734-136abd399410 button.colab-df-convert');\n",
              "        buttonEl.style.display =\n",
              "          google.colab.kernel.accessAllowed ? 'block' : 'none';\n",
              "\n",
              "        async function convertToInteractive(key) {\n",
              "          const element = document.querySelector('#df-363e5338-ab0f-4d22-a734-136abd399410');\n",
              "          const dataTable =\n",
              "            await google.colab.kernel.invokeFunction('convertToInteractive',\n",
              "                                                     [key], {});\n",
              "          if (!dataTable) return;\n",
              "\n",
              "          const docLinkHtml = 'Like what you see? Visit the ' +\n",
              "            '<a target=\"_blank\" href=https://colab.research.google.com/notebooks/data_table.ipynb>data table notebook</a>'\n",
              "            + ' to learn more about interactive tables.';\n",
              "          element.innerHTML = '';\n",
              "          dataTable['output_type'] = 'display_data';\n",
              "          await google.colab.output.renderOutput(dataTable, element);\n",
              "          const docLink = document.createElement('div');\n",
              "          docLink.innerHTML = docLinkHtml;\n",
              "          element.appendChild(docLink);\n",
              "        }\n",
              "      </script>\n",
              "    </div>\n",
              "  </div>\n",
              "  "
            ]
          },
          "metadata": {},
          "execution_count": 62
        }
      ]
    },
    {
      "cell_type": "code",
      "source": [
        "df_train.info()"
      ],
      "metadata": {
        "colab": {
          "base_uri": "https://localhost:8080/"
        },
        "id": "SnnoZ76WRqCS",
        "outputId": "51f2339a-dcf7-4cd0-b47f-adb29850b265"
      },
      "execution_count": 63,
      "outputs": [
        {
          "output_type": "stream",
          "name": "stdout",
          "text": [
            "<class 'pandas.core.frame.DataFrame'>\n",
            "RangeIndex: 1490 entries, 0 to 1489\n",
            "Data columns (total 3 columns):\n",
            " #   Column     Non-Null Count  Dtype \n",
            "---  ------     --------------  ----- \n",
            " 0   ArticleId  1490 non-null   int64 \n",
            " 1   Text       1490 non-null   object\n",
            " 2   Category   1490 non-null   object\n",
            "dtypes: int64(1), object(2)\n",
            "memory usage: 35.0+ KB\n"
          ]
        }
      ]
    },
    {
      "cell_type": "code",
      "source": [
        "df_train.Category.value_counts()"
      ],
      "metadata": {
        "colab": {
          "base_uri": "https://localhost:8080/"
        },
        "id": "fpJRNBA_RtdR",
        "outputId": "3ea6d63f-de96-4413-b0fd-f7f46b904fec"
      },
      "execution_count": 64,
      "outputs": [
        {
          "output_type": "execute_result",
          "data": {
            "text/plain": [
              "sport            346\n",
              "business         336\n",
              "politics         274\n",
              "entertainment    273\n",
              "tech             261\n",
              "Name: Category, dtype: int64"
            ]
          },
          "metadata": {},
          "execution_count": 64
        }
      ]
    },
    {
      "cell_type": "code",
      "source": [
        "df_train.Category.value_counts().sum()"
      ],
      "metadata": {
        "colab": {
          "base_uri": "https://localhost:8080/"
        },
        "id": "M0E51fGgR1pH",
        "outputId": "45de4e79-05ab-4524-99f5-5066e2155c85"
      },
      "execution_count": 65,
      "outputs": [
        {
          "output_type": "execute_result",
          "data": {
            "text/plain": [
              "1490"
            ]
          },
          "metadata": {},
          "execution_count": 65
        }
      ]
    },
    {
      "cell_type": "code",
      "source": [
        "df_test.head()"
      ],
      "metadata": {
        "colab": {
          "base_uri": "https://localhost:8080/",
          "height": 206
        },
        "id": "xnmOnPGWR6Ak",
        "outputId": "13e4a617-d8b0-418c-a30a-65b602e6d587"
      },
      "execution_count": 66,
      "outputs": [
        {
          "output_type": "execute_result",
          "data": {
            "text/plain": [
              "   ArticleId                                               Text\n",
              "0       1018  qpr keeper day heads for preston queens park r...\n",
              "1       1319  software watching while you work software that...\n",
              "2       1138  d arcy injury adds to ireland woe gordon d arc...\n",
              "3        459  india s reliance family feud heats up the ongo...\n",
              "4       1020  boro suffer morrison injury blow middlesbrough..."
            ],
            "text/html": [
              "\n",
              "  <div id=\"df-a2eb7392-1d4e-450d-af7d-c908b666d10e\">\n",
              "    <div class=\"colab-df-container\">\n",
              "      <div>\n",
              "<style scoped>\n",
              "    .dataframe tbody tr th:only-of-type {\n",
              "        vertical-align: middle;\n",
              "    }\n",
              "\n",
              "    .dataframe tbody tr th {\n",
              "        vertical-align: top;\n",
              "    }\n",
              "\n",
              "    .dataframe thead th {\n",
              "        text-align: right;\n",
              "    }\n",
              "</style>\n",
              "<table border=\"1\" class=\"dataframe\">\n",
              "  <thead>\n",
              "    <tr style=\"text-align: right;\">\n",
              "      <th></th>\n",
              "      <th>ArticleId</th>\n",
              "      <th>Text</th>\n",
              "    </tr>\n",
              "  </thead>\n",
              "  <tbody>\n",
              "    <tr>\n",
              "      <th>0</th>\n",
              "      <td>1018</td>\n",
              "      <td>qpr keeper day heads for preston queens park r...</td>\n",
              "    </tr>\n",
              "    <tr>\n",
              "      <th>1</th>\n",
              "      <td>1319</td>\n",
              "      <td>software watching while you work software that...</td>\n",
              "    </tr>\n",
              "    <tr>\n",
              "      <th>2</th>\n",
              "      <td>1138</td>\n",
              "      <td>d arcy injury adds to ireland woe gordon d arc...</td>\n",
              "    </tr>\n",
              "    <tr>\n",
              "      <th>3</th>\n",
              "      <td>459</td>\n",
              "      <td>india s reliance family feud heats up the ongo...</td>\n",
              "    </tr>\n",
              "    <tr>\n",
              "      <th>4</th>\n",
              "      <td>1020</td>\n",
              "      <td>boro suffer morrison injury blow middlesbrough...</td>\n",
              "    </tr>\n",
              "  </tbody>\n",
              "</table>\n",
              "</div>\n",
              "      <button class=\"colab-df-convert\" onclick=\"convertToInteractive('df-a2eb7392-1d4e-450d-af7d-c908b666d10e')\"\n",
              "              title=\"Convert this dataframe to an interactive table.\"\n",
              "              style=\"display:none;\">\n",
              "        \n",
              "  <svg xmlns=\"http://www.w3.org/2000/svg\" height=\"24px\"viewBox=\"0 0 24 24\"\n",
              "       width=\"24px\">\n",
              "    <path d=\"M0 0h24v24H0V0z\" fill=\"none\"/>\n",
              "    <path d=\"M18.56 5.44l.94 2.06.94-2.06 2.06-.94-2.06-.94-.94-2.06-.94 2.06-2.06.94zm-11 1L8.5 8.5l.94-2.06 2.06-.94-2.06-.94L8.5 2.5l-.94 2.06-2.06.94zm10 10l.94 2.06.94-2.06 2.06-.94-2.06-.94-.94-2.06-.94 2.06-2.06.94z\"/><path d=\"M17.41 7.96l-1.37-1.37c-.4-.4-.92-.59-1.43-.59-.52 0-1.04.2-1.43.59L10.3 9.45l-7.72 7.72c-.78.78-.78 2.05 0 2.83L4 21.41c.39.39.9.59 1.41.59.51 0 1.02-.2 1.41-.59l7.78-7.78 2.81-2.81c.8-.78.8-2.07 0-2.86zM5.41 20L4 18.59l7.72-7.72 1.47 1.35L5.41 20z\"/>\n",
              "  </svg>\n",
              "      </button>\n",
              "      \n",
              "  <style>\n",
              "    .colab-df-container {\n",
              "      display:flex;\n",
              "      flex-wrap:wrap;\n",
              "      gap: 12px;\n",
              "    }\n",
              "\n",
              "    .colab-df-convert {\n",
              "      background-color: #E8F0FE;\n",
              "      border: none;\n",
              "      border-radius: 50%;\n",
              "      cursor: pointer;\n",
              "      display: none;\n",
              "      fill: #1967D2;\n",
              "      height: 32px;\n",
              "      padding: 0 0 0 0;\n",
              "      width: 32px;\n",
              "    }\n",
              "\n",
              "    .colab-df-convert:hover {\n",
              "      background-color: #E2EBFA;\n",
              "      box-shadow: 0px 1px 2px rgba(60, 64, 67, 0.3), 0px 1px 3px 1px rgba(60, 64, 67, 0.15);\n",
              "      fill: #174EA6;\n",
              "    }\n",
              "\n",
              "    [theme=dark] .colab-df-convert {\n",
              "      background-color: #3B4455;\n",
              "      fill: #D2E3FC;\n",
              "    }\n",
              "\n",
              "    [theme=dark] .colab-df-convert:hover {\n",
              "      background-color: #434B5C;\n",
              "      box-shadow: 0px 1px 3px 1px rgba(0, 0, 0, 0.15);\n",
              "      filter: drop-shadow(0px 1px 2px rgba(0, 0, 0, 0.3));\n",
              "      fill: #FFFFFF;\n",
              "    }\n",
              "  </style>\n",
              "\n",
              "      <script>\n",
              "        const buttonEl =\n",
              "          document.querySelector('#df-a2eb7392-1d4e-450d-af7d-c908b666d10e button.colab-df-convert');\n",
              "        buttonEl.style.display =\n",
              "          google.colab.kernel.accessAllowed ? 'block' : 'none';\n",
              "\n",
              "        async function convertToInteractive(key) {\n",
              "          const element = document.querySelector('#df-a2eb7392-1d4e-450d-af7d-c908b666d10e');\n",
              "          const dataTable =\n",
              "            await google.colab.kernel.invokeFunction('convertToInteractive',\n",
              "                                                     [key], {});\n",
              "          if (!dataTable) return;\n",
              "\n",
              "          const docLinkHtml = 'Like what you see? Visit the ' +\n",
              "            '<a target=\"_blank\" href=https://colab.research.google.com/notebooks/data_table.ipynb>data table notebook</a>'\n",
              "            + ' to learn more about interactive tables.';\n",
              "          element.innerHTML = '';\n",
              "          dataTable['output_type'] = 'display_data';\n",
              "          await google.colab.output.renderOutput(dataTable, element);\n",
              "          const docLink = document.createElement('div');\n",
              "          docLink.innerHTML = docLinkHtml;\n",
              "          element.appendChild(docLink);\n",
              "        }\n",
              "      </script>\n",
              "    </div>\n",
              "  </div>\n",
              "  "
            ]
          },
          "metadata": {},
          "execution_count": 66
        }
      ]
    },
    {
      "cell_type": "code",
      "source": [
        "df_test.info()"
      ],
      "metadata": {
        "colab": {
          "base_uri": "https://localhost:8080/"
        },
        "id": "w6KyOI81SIMX",
        "outputId": "82ccde3e-593f-432e-defa-f9a38020ef67"
      },
      "execution_count": 67,
      "outputs": [
        {
          "output_type": "stream",
          "name": "stdout",
          "text": [
            "<class 'pandas.core.frame.DataFrame'>\n",
            "RangeIndex: 735 entries, 0 to 734\n",
            "Data columns (total 2 columns):\n",
            " #   Column     Non-Null Count  Dtype \n",
            "---  ------     --------------  ----- \n",
            " 0   ArticleId  735 non-null    int64 \n",
            " 1   Text       735 non-null    object\n",
            "dtypes: int64(1), object(1)\n",
            "memory usage: 11.6+ KB\n"
          ]
        }
      ]
    },
    {
      "cell_type": "markdown",
      "source": [
        "\n",
        "\n",
        "*   Training data has 3 columns 'ArticleId', 'Text', 'Category'\n",
        "*   Test data has 2 columns 'ArticleId', 'Text', so we have to submit result in kaggle to get accuracy\n",
        "*   1490 samples on train and 735 samples on test\n",
        "*   'Text' field is english free text\n",
        "*   'Category' field has 5 unique values ['business', 'tech', 'politics', 'sport', 'entertainment'], no null/nan value\n",
        "*   Each category has a good representation in entire training dataset considering its count\n",
        "\n",
        "\n",
        "\n",
        "\n",
        "\n"
      ],
      "metadata": {
        "id": "ylpco5JPTMs8"
      }
    },
    {
      "cell_type": "markdown",
      "source": [
        "## Visualize"
      ],
      "metadata": {
        "id": "SZZyfC_ZUCaT"
      }
    },
    {
      "cell_type": "code",
      "source": [
        "plt.hist(df_train.Category)\n"
      ],
      "metadata": {
        "colab": {
          "base_uri": "https://localhost:8080/",
          "height": 317
        },
        "id": "fZjo4HR7SLSp",
        "outputId": "82824a1e-e161-4648-a1ed-f0e726e3f3b9"
      },
      "execution_count": 68,
      "outputs": [
        {
          "output_type": "execute_result",
          "data": {
            "text/plain": [
              "(array([336.,   0., 261.,   0.,   0., 274.,   0., 346.,   0., 273.]),\n",
              " array([0. , 0.4, 0.8, 1.2, 1.6, 2. , 2.4, 2.8, 3.2, 3.6, 4. ]),\n",
              " <a list of 10 Patch objects>)"
            ]
          },
          "metadata": {},
          "execution_count": 68
        },
        {
          "output_type": "display_data",
          "data": {
            "text/plain": [
              "<Figure size 432x288 with 1 Axes>"
            ],
            "image/png": "[encoded data removed]"
          },
          "metadata": {
            "needs_background": "light"
          }
        }
      ]
    },
    {
      "cell_type": "markdown",
      "source": [
        "## Clean"
      ],
      "metadata": {
        "id": "jby-yRwFVW0n"
      }
    },
    {
      "cell_type": "code",
      "source": [
        "import nltk"
      ],
      "metadata": {
        "id": "9zERmv-reocN"
      },
      "execution_count": 69,
      "outputs": []
    },
    {
      "cell_type": "code",
      "source": [
        "nltk.download('punkt')"
      ],
      "metadata": {
        "colab": {
          "base_uri": "https://localhost:8080/"
        },
        "id": "unmv25FperSo",
        "outputId": "154da021-bd2f-4ba5-db04-fd1aecf291b5"
      },
      "execution_count": 70,
      "outputs": [
        {
          "output_type": "stream",
          "name": "stdout",
          "text": [
            "[nltk_data] Downloading package punkt to /root/nltk_data...\n",
            "[nltk_data]   Package punkt is already up-to-date!\n"
          ]
        },
        {
          "output_type": "execute_result",
          "data": {
            "text/plain": [
              "True"
            ]
          },
          "metadata": {},
          "execution_count": 70
        }
      ]
    },
    {
      "cell_type": "code",
      "source": [
        "nltk.download('stopwords')"
      ],
      "metadata": {
        "colab": {
          "base_uri": "https://localhost:8080/"
        },
        "id": "qL-lfyqVhfaI",
        "outputId": "8cc0449d-c541-4418-e581-b7e3290cd107"
      },
      "execution_count": 71,
      "outputs": [
        {
          "output_type": "stream",
          "name": "stdout",
          "text": [
            "[nltk_data] Downloading package stopwords to /root/nltk_data...\n",
            "[nltk_data]   Package stopwords is already up-to-date!\n"
          ]
        },
        {
          "output_type": "execute_result",
          "data": {
            "text/plain": [
              "True"
            ]
          },
          "metadata": {},
          "execution_count": 71
        }
      ]
    },
    {
      "cell_type": "code",
      "source": [
        "from nltk.corpus import stopwords\n",
        "from nltk.tokenize import word_tokenize\n",
        "from nltk.stem import PorterStemmer\n",
        "import string\n"
      ],
      "metadata": {
        "id": "CQKLcwMPVH0V"
      },
      "execution_count": 72,
      "outputs": []
    },
    {
      "cell_type": "code",
      "source": [
        "translator = str.maketrans('', '', string.punctuation)\n"
      ],
      "metadata": {
        "id": "Qd7lVXtGj7gv"
      },
      "execution_count": 73,
      "outputs": []
    },
    {
      "cell_type": "markdown",
      "source": [
        "We use nltk library to clean the 'Text' data with following steps:  \n",
        "1. Remove stopwords  \n",
        "A stop word is a commonly used word (such as “the”, “a”, “an”, “in”), By removing these words, we remove the low-level information from our text in order to give more focus to the important information.\n",
        "2. Remove punctuation\n",
        "Same reason as above to focus more on the core information of text\n",
        "3. Stemming  \n",
        "\"Stemming is the process of reducing inflection in words to their root forms such as mapping a group of words to the same stem even if the stem itself is not a valid word in the Language.\"  \n",
        "Stem (root) is the part of the word to which you add inflectional (changing/deriving) affixes such as (-ed,-ize, -s,-de,mis). So stemming a word or sentence may result in words that are not actual words. Stems are created by removing the suffixes or prefixes used with a word.  \n",
        "\n",
        "Reference:  \n",
        "https://www.geeksforgeeks.org/removing-stop-words-nltk-python/  \n",
        "https://www.guru99.com/stemming-lemmatization-python-nltk.html  \n",
        "https://www.datacamp.com/tutorial/stemming-lemmatization-python"
      ],
      "metadata": {
        "id": "vDmJH7NkaP8h"
      }
    },
    {
      "cell_type": "code",
      "source": [
        "def preprocessDataset(train_text):\n",
        "  stop_words = set(stopwords.words('english'))\n",
        "  words = word_tokenize(train_text)\n",
        "  words = [word for word in words if not word in stop_words]\n",
        "  stemmer= PorterStemmer()\n",
        "  stem_text=' '.join([stemmer.stem(word.translate(translator)) for word in words])\n",
        "  return stem_text\n"
      ],
      "metadata": {
        "id": "Eap00tiuZfYi"
      },
      "execution_count": 74,
      "outputs": []
    },
    {
      "cell_type": "markdown",
      "source": [
        "Check 1 sample below to compare text before and after clean-up"
      ],
      "metadata": {
        "id": "Ih7tjA7JPC1A"
      }
    },
    {
      "cell_type": "code",
      "source": [
        "preprocessDataset(df_train.iloc[0].Text)"
      ],
      "metadata": {
        "colab": {
          "base_uri": "https://localhost:8080/",
          "height": 175
        },
        "id": "Snzaf4l0hWPb",
        "outputId": "1f7be700-630d-44e9-f75b-dd7a011477fe"
      },
      "execution_count": 75,
      "outputs": [
        {
          "output_type": "execute_result",
          "data": {
            "text/plain": [
              "'worldcom exboss launch defenc lawyer defend former worldcom chief berni ebber batteri fraud charg call compani whistleblow first wit  cynthia cooper worldcom exhead intern account alert director irregular account practic us telecom giant 2002 warn led collaps firm follow discoveri  11bn  £57bn  account fraud  mr ebber plead guilti charg fraud conspiraci  prosecut lawyer argu mr ebber orchestr seri account trick worldcom order employe hide expens inflat revenu meet wall street earn estim  ms cooper run consult busi told juri new york wednesday extern auditor arthur andersen approv worldcom account earli 2001 2002 said andersen given green light procedur practic use worldcom  mr ebber lawyer said unawar fraud argu auditor alert problem  ms cooper also said sharehold meet mr ebber often pass technic question compani financ chief give brief answer  prosecut star wit former worldcom financi chief scott sullivan said mr ebber order account adjust firm tell hit book  howev ms cooper said mr sullivan mention anyth uncomfort worldcom account 2001 audit committe meet  mr ebber could face jail sentenc 85 year convict charg face  worldcom emerg bankruptci protect 2004 known mci  last week mci agre buyout verizon commun deal valu  675bn '"
            ],
            "application/vnd.google.colaboratory.intrinsic+json": {
              "type": "string"
            }
          },
          "metadata": {},
          "execution_count": 75
        }
      ]
    },
    {
      "cell_type": "code",
      "source": [
        "df_train.iloc[0].Text"
      ],
      "metadata": {
        "colab": {
          "base_uri": "https://localhost:8080/",
          "height": 175
        },
        "id": "MfhtdMnBhc41",
        "outputId": "7e6f5dea-33a3-4c27-a00f-2da88948809a"
      },
      "execution_count": 76,
      "outputs": [
        {
          "output_type": "execute_result",
          "data": {
            "text/plain": [
              "'worldcom ex-boss launches defence lawyers defending former worldcom chief bernie ebbers against a battery of fraud charges have called a company whistleblower as their first witness.  cynthia cooper  worldcom s ex-head of internal accounting  alerted directors to irregular accounting practices at the us telecoms giant in 2002. her warnings led to the collapse of the firm following the discovery of an $11bn (£5.7bn) accounting fraud. mr ebbers has pleaded not guilty to charges of fraud and conspiracy.  prosecution lawyers have argued that mr ebbers orchestrated a series of accounting tricks at worldcom  ordering employees to hide expenses and inflate revenues to meet wall street earnings estimates. but ms cooper  who now runs her own consulting business  told a jury in new york on wednesday that external auditors arthur andersen had approved worldcom s accounting in early 2001 and 2002. she said andersen had given a  green light  to the procedures and practices used by worldcom. mr ebber s lawyers have said he was unaware of the fraud  arguing that auditors did not alert him to any problems.  ms cooper also said that during shareholder meetings mr ebbers often passed over technical questions to the company s finance chief  giving only  brief  answers himself. the prosecution s star witness  former worldcom financial chief scott sullivan  has said that mr ebbers ordered accounting adjustments at the firm  telling him to  hit our books . however  ms cooper said mr sullivan had not mentioned  anything uncomfortable  about worldcom s accounting during a 2001 audit committee meeting. mr ebbers could face a jail sentence of 85 years if convicted of all the charges he is facing. worldcom emerged from bankruptcy protection in 2004  and is now known as mci. last week  mci agreed to a buyout by verizon communications in a deal valued at $6.75bn.'"
            ],
            "application/vnd.google.colaboratory.intrinsic+json": {
              "type": "string"
            }
          },
          "metadata": {},
          "execution_count": 76
        }
      ]
    },
    {
      "cell_type": "code",
      "source": [
        "df_train['TextCleaned'] = df_train['Text'].apply(preprocessDataset)\n"
      ],
      "metadata": {
        "id": "6X5p9aFEhmac"
      },
      "execution_count": 77,
      "outputs": []
    },
    {
      "cell_type": "code",
      "source": [
        "df_train['TextCleaned']"
      ],
      "metadata": {
        "colab": {
          "base_uri": "https://localhost:8080/"
        },
        "id": "l5oIYiguPnDR",
        "outputId": "7a1e76b2-07c0-4e13-df1f-2d3b0ba5a07f"
      },
      "execution_count": 78,
      "outputs": [
        {
          "output_type": "execute_result",
          "data": {
            "text/plain": [
              "0       worldcom exboss launch defenc lawyer defend fo...\n",
              "1       german busi confid slide german busi confid fe...\n",
              "2       bbc poll indic econom gloom citizen major nati...\n",
              "3       lifestyl govern mobil choic faster better funk...\n",
              "4       enron boss  168m payout eighteen former enron ...\n",
              "                              ...                        \n",
              "1485    doubl evict big brother model capric holbi cit...\n",
              "1486    dj doubl act revamp chart show dj duo jk joel ...\n",
              "1487    weak dollar hit reuter revenu media group reut...\n",
              "1488    appl ipod famili expand market appl expand ipo...\n",
              "1489    santi worm make unwelcom visit thousand websit...\n",
              "Name: TextCleaned, Length: 1490, dtype: object"
            ]
          },
          "metadata": {},
          "execution_count": 78
        }
      ]
    },
    {
      "cell_type": "code",
      "source": [
        "from sklearn.feature_extraction.text import TfidfVectorizer\n"
      ],
      "metadata": {
        "id": "GR7pfkwZPp6q"
      },
      "execution_count": 79,
      "outputs": []
    },
    {
      "cell_type": "markdown",
      "source": [
        "Next we need to  build feature vectors from text documents.   \n",
        "There are many libraries to transform text data to numerics for machine learning, but for this week's topic, understanding NMF is the most important, so I used the most simple one TfidfVectorizer.  \n",
        "TF-IDF, or term frequency-inverse document frequency, is a figure that expresses the statistical importance of any given word to the document collection as a whole.  \n",
        "It is a way of normalizing the frequency of words in a document so that they can be compared across documents.  \n",
        "TF: Number of times a word appears in a document/number of words in the document.  \n",
        "IDF: log(Number of documents / Number of documents that contain the word).  \n",
        "TF-IDF = TF * IDF  \n",
        "  \n",
        "Reference:  \n",
        "https://medium.com/@cmukesh8688/tf-idf-vectorizer-scikit-learn-dbc0244a911a  \n",
        "https://scikit-learn.org/stable/modules/generated/sklearn.feature_extraction.text.TfidfVectorizer.html#sklearn.feature_extraction.text.TfidfVectorizer  "
      ],
      "metadata": {
        "id": "ealFrINuR1Aa"
      }
    },
    {
      "cell_type": "code",
      "source": [
        "vect = TfidfVectorizer()\n",
        "X = vect.fit_transform(df_train.TextCleaned)\n",
        "X"
      ],
      "metadata": {
        "colab": {
          "base_uri": "https://localhost:8080/"
        },
        "id": "tLUAlJfaP2bK",
        "outputId": "81b4e23b-4c5b-4cf5-8b89-af1adf710987"
      },
      "execution_count": 80,
      "outputs": [
        {
          "output_type": "execute_result",
          "data": {
            "text/plain": [
              "<1490x19646 sparse matrix of type '<class 'numpy.float64'>'\n",
              "\twith 218395 stored elements in Compressed Sparse Row format>"
            ]
          },
          "metadata": {},
          "execution_count": 80
        }
      ]
    },
    {
      "cell_type": "code",
      "source": [
        "X.toarray()"
      ],
      "metadata": {
        "colab": {
          "base_uri": "https://localhost:8080/"
        },
        "id": "D5q7U8hLTXCW",
        "outputId": "a4875781-ce35-46b7-fdea-2290300db090"
      },
      "execution_count": 81,
      "outputs": [
        {
          "output_type": "execute_result",
          "data": {
            "text/plain": [
              "array([[0.        , 0.        , 0.        , ..., 0.        , 0.        ,\n",
              "        0.        ],\n",
              "       [0.        , 0.        , 0.        , ..., 0.        , 0.        ,\n",
              "        0.        ],\n",
              "       [0.        , 0.02407628, 0.        , ..., 0.        , 0.        ,\n",
              "        0.        ],\n",
              "       ...,\n",
              "       [0.        , 0.        , 0.        , ..., 0.        , 0.        ,\n",
              "        0.        ],\n",
              "       [0.        , 0.        , 0.        , ..., 0.        , 0.        ,\n",
              "        0.        ],\n",
              "       [0.        , 0.02546556, 0.        , ..., 0.        , 0.        ,\n",
              "        0.        ]])"
            ]
          },
          "metadata": {},
          "execution_count": 81
        }
      ]
    },
    {
      "cell_type": "markdown",
      "source": [
        "Now each sample has 19646 features"
      ],
      "metadata": {
        "id": "kYv7rh3FWrP5"
      }
    },
    {
      "cell_type": "markdown",
      "source": [
        "# Building and training models"
      ],
      "metadata": {
        "id": "NPwYucI5W4bt"
      }
    },
    {
      "cell_type": "code",
      "source": [
        "from sklearn.decomposition import NMF\n"
      ],
      "metadata": {
        "id": "8pNfIdSBTeLu"
      },
      "execution_count": 82,
      "outputs": []
    },
    {
      "cell_type": "code",
      "source": [
        "# since we target to predict text falling into 1 of 5 categories, set n_components=5\n",
        "model = NMF(n_components=5, random_state=42)\n",
        "W = model.fit_transform(X)\n",
        "H = model.components_"
      ],
      "metadata": {
        "id": "8D4y4XS9XAg9"
      },
      "execution_count": 83,
      "outputs": []
    },
    {
      "cell_type": "code",
      "source": [
        "W.shape"
      ],
      "metadata": {
        "colab": {
          "base_uri": "https://localhost:8080/"
        },
        "id": "BMEc2bSHYxb9",
        "outputId": "1dac9593-abdd-4ae8-e2c9-e607b501c501"
      },
      "execution_count": 84,
      "outputs": [
        {
          "output_type": "execute_result",
          "data": {
            "text/plain": [
              "(1490, 5)"
            ]
          },
          "metadata": {},
          "execution_count": 84
        }
      ]
    },
    {
      "cell_type": "code",
      "source": [
        "H.shape"
      ],
      "metadata": {
        "colab": {
          "base_uri": "https://localhost:8080/"
        },
        "id": "UwsYdOivY57I",
        "outputId": "8a91598e-f436-463e-fd2e-1aae3b37ff71"
      },
      "execution_count": 85,
      "outputs": [
        {
          "output_type": "execute_result",
          "data": {
            "text/plain": [
              "(5, 19646)"
            ]
          },
          "metadata": {},
          "execution_count": 85
        }
      ]
    },
    {
      "cell_type": "code",
      "source": [
        "W"
      ],
      "metadata": {
        "colab": {
          "base_uri": "https://localhost:8080/"
        },
        "id": "KYri67Uobwnm",
        "outputId": "f79aff4b-b02e-4ae0-93d2-864d2b106595"
      },
      "execution_count": 86,
      "outputs": [
        {
          "output_type": "execute_result",
          "data": {
            "text/plain": [
              "array([[6.95884513e-04, 4.07745876e-02, 1.24580365e-02, 5.29975892e-03,\n",
              "        5.88770642e-02],\n",
              "       [0.00000000e+00, 0.00000000e+00, 0.00000000e+00, 0.00000000e+00,\n",
              "        2.14685309e-01],\n",
              "       [1.47780777e-02, 3.35264888e-02, 2.23558669e-02, 0.00000000e+00,\n",
              "        1.21466231e-01],\n",
              "       ...,\n",
              "       [8.31887349e-03, 0.00000000e+00, 1.13497321e-04, 8.25120090e-03,\n",
              "        1.61090898e-01],\n",
              "       [0.00000000e+00, 0.00000000e+00, 2.19113415e-01, 1.38308361e-02,\n",
              "        2.42128574e-02],\n",
              "       [0.00000000e+00, 0.00000000e+00, 1.16072401e-01, 0.00000000e+00,\n",
              "        0.00000000e+00]])"
            ]
          },
          "metadata": {},
          "execution_count": 86
        }
      ]
    },
    {
      "cell_type": "code",
      "source": [
        "predicted_label = np.squeeze(np.asarray(W.argmax(axis=1)))\n"
      ],
      "metadata": {
        "id": "x8cacwZPfto4"
      },
      "execution_count": 87,
      "outputs": []
    },
    {
      "cell_type": "code",
      "source": [
        "predicted_label"
      ],
      "metadata": {
        "colab": {
          "base_uri": "https://localhost:8080/"
        },
        "id": "W_AFJ7Tyfwo2",
        "outputId": "948bd28d-d26f-4972-fc7b-e4413172f421"
      },
      "execution_count": 88,
      "outputs": [
        {
          "output_type": "execute_result",
          "data": {
            "text/plain": [
              "array([4, 4, 4, ..., 4, 2, 2])"
            ]
          },
          "metadata": {},
          "execution_count": 88
        }
      ]
    },
    {
      "cell_type": "code",
      "source": [
        "predicted_label.shape"
      ],
      "metadata": {
        "colab": {
          "base_uri": "https://localhost:8080/"
        },
        "id": "JgW7dW89fygC",
        "outputId": "3b5d33a6-dc4b-48d4-b798-e8c216e03b6e"
      },
      "execution_count": 89,
      "outputs": [
        {
          "output_type": "execute_result",
          "data": {
            "text/plain": [
              "(1490,)"
            ]
          },
          "metadata": {},
          "execution_count": 89
        }
      ]
    },
    {
      "cell_type": "code",
      "source": [
        "type(predicted_label)"
      ],
      "metadata": {
        "colab": {
          "base_uri": "https://localhost:8080/"
        },
        "id": "XwR8k1Ndj-L-",
        "outputId": "99a6a564-55ed-4d9a-8175-ee638fdcd290"
      },
      "execution_count": 90,
      "outputs": [
        {
          "output_type": "execute_result",
          "data": {
            "text/plain": [
              "numpy.ndarray"
            ]
          },
          "metadata": {},
          "execution_count": 90
        }
      ]
    },
    {
      "cell_type": "markdown",
      "source": [
        "**Now we need to find mapping between predicted label to ['business', 'tech', 'politics', 'sport', 'entertainment']**"
      ],
      "metadata": {
        "id": "dVMM5w5-i6JS"
      }
    },
    {
      "cell_type": "code",
      "source": [
        "label_to_categ = {}"
      ],
      "metadata": {
        "id": "8KJ8sEu6jMsG"
      },
      "execution_count": 91,
      "outputs": []
    },
    {
      "cell_type": "code",
      "source": [
        "for i in range(5):\n",
        "  label_to_categ[i] = df_train.iloc[np.where(predicted_label == i)[0]]['Category'].value_counts().idxmax()"
      ],
      "metadata": {
        "id": "UoVwDxAag20G"
      },
      "execution_count": 92,
      "outputs": []
    },
    {
      "cell_type": "code",
      "source": [
        "label_to_categ"
      ],
      "metadata": {
        "colab": {
          "base_uri": "https://localhost:8080/"
        },
        "id": "hZ8lh3Gpjai3",
        "outputId": "ff6ea32a-662a-4d8f-9fd1-df98e9620832"
      },
      "execution_count": 93,
      "outputs": [
        {
          "output_type": "execute_result",
          "data": {
            "text/plain": [
              "{0: 'sport', 1: 'politics', 2: 'tech', 3: 'entertainment', 4: 'business'}"
            ]
          },
          "metadata": {},
          "execution_count": 93
        }
      ]
    },
    {
      "cell_type": "code",
      "source": [
        "from sklearn.metrics import accuracy_score\n",
        "from sklearn.metrics import confusion_matrix"
      ],
      "metadata": {
        "id": "Fs3_bE0djdQ4"
      },
      "execution_count": 94,
      "outputs": []
    },
    {
      "cell_type": "code",
      "source": [
        "predicted_categ = np.vectorize(label_to_categ.get)(predicted_label)\n",
        "predicted_categ"
      ],
      "metadata": {
        "colab": {
          "base_uri": "https://localhost:8080/"
        },
        "id": "pTU4hVd1kJAm",
        "outputId": "cc0f7715-66a9-4359-cb3d-edc6ab43aba3"
      },
      "execution_count": 95,
      "outputs": [
        {
          "output_type": "execute_result",
          "data": {
            "text/plain": [
              "array(['business', 'business', 'business', ..., 'business', 'tech',\n",
              "       'tech'], dtype='<U13')"
            ]
          },
          "metadata": {},
          "execution_count": 95
        }
      ]
    },
    {
      "cell_type": "code",
      "source": [
        "# check metrics on df_train\n",
        "accuracy_score(df_train.Category, predicted_categ)"
      ],
      "metadata": {
        "colab": {
          "base_uri": "https://localhost:8080/"
        },
        "id": "VgATwr98j0Bf",
        "outputId": "f722d9cd-42f2-4622-f393-0d908ed917c1"
      },
      "execution_count": 96,
      "outputs": [
        {
          "output_type": "execute_result",
          "data": {
            "text/plain": [
              "0.9187919463087248"
            ]
          },
          "metadata": {},
          "execution_count": 96
        }
      ]
    },
    {
      "cell_type": "code",
      "source": [
        "confusion_matrix(df_train.Category, predicted_categ)"
      ],
      "metadata": {
        "colab": {
          "base_uri": "https://localhost:8080/"
        },
        "id": "LIIomicvkbC6",
        "outputId": "4efaf991-0211-4e98-de52-42faad8a89aa"
      },
      "execution_count": 97,
      "outputs": [
        {
          "output_type": "execute_result",
          "data": {
            "text/plain": [
              "array([[312,   1,  13,   0,  10],\n",
              "       [ 10, 226,   6,   3,  28],\n",
              "       [ 18,   0, 249,   3,   4],\n",
              "       [  2,   4,   0, 340,   0],\n",
              "       [  4,   6,   3,   6, 242]])"
            ]
          },
          "metadata": {},
          "execution_count": 97
        }
      ]
    },
    {
      "cell_type": "markdown",
      "source": [
        "**Now apply model on df_test then submit to kaggle for accuracy score**"
      ],
      "metadata": {
        "id": "JSzjBjgJk-4_"
      }
    },
    {
      "cell_type": "code",
      "source": [
        "test_pred_categ = np.vectorize(label_to_categ.get)(model.transform(vect.transform(df_test['Text'].apply(preprocessDataset))).argmax(axis=1))"
      ],
      "metadata": {
        "id": "GMQdtF6kkldU"
      },
      "execution_count": 98,
      "outputs": []
    },
    {
      "cell_type": "code",
      "source": [
        "type(test_pred_categ)"
      ],
      "metadata": {
        "colab": {
          "base_uri": "https://localhost:8080/"
        },
        "id": "VtgqlpM2mKBb",
        "outputId": "50de29f2-957c-41af-b988-1b69cde1471e"
      },
      "execution_count": 99,
      "outputs": [
        {
          "output_type": "execute_result",
          "data": {
            "text/plain": [
              "numpy.ndarray"
            ]
          },
          "metadata": {},
          "execution_count": 99
        }
      ]
    },
    {
      "cell_type": "code",
      "source": [
        "test_pred_categ.shape"
      ],
      "metadata": {
        "colab": {
          "base_uri": "https://localhost:8080/"
        },
        "id": "3njJxFWPn2Mk",
        "outputId": "7d727ec4-8bda-4729-8ccb-c43fef2ecc41"
      },
      "execution_count": 100,
      "outputs": [
        {
          "output_type": "execute_result",
          "data": {
            "text/plain": [
              "(735,)"
            ]
          },
          "metadata": {},
          "execution_count": 100
        }
      ]
    },
    {
      "cell_type": "code",
      "source": [
        "df_test['Category'] = test_pred_categ"
      ],
      "metadata": {
        "id": "O8CKInQpn7uk"
      },
      "execution_count": 101,
      "outputs": []
    },
    {
      "cell_type": "code",
      "source": [
        "df_test"
      ],
      "metadata": {
        "colab": {
          "base_uri": "https://localhost:8080/",
          "height": 424
        },
        "id": "RvNRGo5CoYV8",
        "outputId": "7e2e34c0-d05f-4d17-a87a-f6fc9f5c7176"
      },
      "execution_count": 102,
      "outputs": [
        {
          "output_type": "execute_result",
          "data": {
            "text/plain": [
              "     ArticleId                                               Text  \\\n",
              "0         1018  qpr keeper day heads for preston queens park r...   \n",
              "1         1319  software watching while you work software that...   \n",
              "2         1138  d arcy injury adds to ireland woe gordon d arc...   \n",
              "3          459  india s reliance family feud heats up the ongo...   \n",
              "4         1020  boro suffer morrison injury blow middlesbrough...   \n",
              "..         ...                                                ...   \n",
              "730       1923  eu to probe alitalia  state aid  the european ...   \n",
              "731        373  u2 to play at grammy awards show irish rock ba...   \n",
              "732       1704  sport betting rules in spotlight a group of mp...   \n",
              "733        206  alfa romeos  to get gm engines  fiat is to sto...   \n",
              "734        471  citizenship event for 18s touted citizenship c...   \n",
              "\n",
              "          Category  \n",
              "0            sport  \n",
              "1             tech  \n",
              "2            sport  \n",
              "3         business  \n",
              "4            sport  \n",
              "..             ...  \n",
              "730       business  \n",
              "731  entertainment  \n",
              "732           tech  \n",
              "733       business  \n",
              "734       politics  \n",
              "\n",
              "[735 rows x 3 columns]"
            ],
            "text/html": [
              "\n",
              "  <div id=\"df-3072762d-bfd5-4573-b0f5-7c9cd05b1f53\">\n",
              "    <div class=\"colab-df-container\">\n",
              "      <div>\n",
              "<style scoped>\n",
              "    .dataframe tbody tr th:only-of-type {\n",
              "        vertical-align: middle;\n",
              "    }\n",
              "\n",
              "    .dataframe tbody tr th {\n",
              "        vertical-align: top;\n",
              "    }\n",
              "\n",
              "    .dataframe thead th {\n",
              "        text-align: right;\n",
              "    }\n",
              "</style>\n",
              "<table border=\"1\" class=\"dataframe\">\n",
              "  <thead>\n",
              "    <tr style=\"text-align: right;\">\n",
              "      <th></th>\n",
              "      <th>ArticleId</th>\n",
              "      <th>Text</th>\n",
              "      <th>Category</th>\n",
              "    </tr>\n",
              "  </thead>\n",
              "  <tbody>\n",
              "    <tr>\n",
              "      <th>0</th>\n",
              "      <td>1018</td>\n",
              "      <td>qpr keeper day heads for preston queens park r...</td>\n",
              "      <td>sport</td>\n",
              "    </tr>\n",
              "    <tr>\n",
              "      <th>1</th>\n",
              "      <td>1319</td>\n",
              "      <td>software watching while you work software that...</td>\n",
              "      <td>tech</td>\n",
              "    </tr>\n",
              "    <tr>\n",
              "      <th>2</th>\n",
              "      <td>1138</td>\n",
              "      <td>d arcy injury adds to ireland woe gordon d arc...</td>\n",
              "      <td>sport</td>\n",
              "    </tr>\n",
              "    <tr>\n",
              "      <th>3</th>\n",
              "      <td>459</td>\n",
              "      <td>india s reliance family feud heats up the ongo...</td>\n",
              "      <td>business</td>\n",
              "    </tr>\n",
              "    <tr>\n",
              "      <th>4</th>\n",
              "      <td>1020</td>\n",
              "      <td>boro suffer morrison injury blow middlesbrough...</td>\n",
              "      <td>sport</td>\n",
              "    </tr>\n",
              "    <tr>\n",
              "      <th>...</th>\n",
              "      <td>...</td>\n",
              "      <td>...</td>\n",
              "      <td>...</td>\n",
              "    </tr>\n",
              "    <tr>\n",
              "      <th>730</th>\n",
              "      <td>1923</td>\n",
              "      <td>eu to probe alitalia  state aid  the european ...</td>\n",
              "      <td>business</td>\n",
              "    </tr>\n",
              "    <tr>\n",
              "      <th>731</th>\n",
              "      <td>373</td>\n",
              "      <td>u2 to play at grammy awards show irish rock ba...</td>\n",
              "      <td>entertainment</td>\n",
              "    </tr>\n",
              "    <tr>\n",
              "      <th>732</th>\n",
              "      <td>1704</td>\n",
              "      <td>sport betting rules in spotlight a group of mp...</td>\n",
              "      <td>tech</td>\n",
              "    </tr>\n",
              "    <tr>\n",
              "      <th>733</th>\n",
              "      <td>206</td>\n",
              "      <td>alfa romeos  to get gm engines  fiat is to sto...</td>\n",
              "      <td>business</td>\n",
              "    </tr>\n",
              "    <tr>\n",
              "      <th>734</th>\n",
              "      <td>471</td>\n",
              "      <td>citizenship event for 18s touted citizenship c...</td>\n",
              "      <td>politics</td>\n",
              "    </tr>\n",
              "  </tbody>\n",
              "</table>\n",
              "<p>735 rows × 3 columns</p>\n",
              "</div>\n",
              "      <button class=\"colab-df-convert\" onclick=\"convertToInteractive('df-3072762d-bfd5-4573-b0f5-7c9cd05b1f53')\"\n",
              "              title=\"Convert this dataframe to an interactive table.\"\n",
              "              style=\"display:none;\">\n",
              "        \n",
              "  <svg xmlns=\"http://www.w3.org/2000/svg\" height=\"24px\"viewBox=\"0 0 24 24\"\n",
              "       width=\"24px\">\n",
              "    <path d=\"M0 0h24v24H0V0z\" fill=\"none\"/>\n",
              "    <path d=\"M18.56 5.44l.94 2.06.94-2.06 2.06-.94-2.06-.94-.94-2.06-.94 2.06-2.06.94zm-11 1L8.5 8.5l.94-2.06 2.06-.94-2.06-.94L8.5 2.5l-.94 2.06-2.06.94zm10 10l.94 2.06.94-2.06 2.06-.94-2.06-.94-.94-2.06-.94 2.06-2.06.94z\"/><path d=\"M17.41 7.96l-1.37-1.37c-.4-.4-.92-.59-1.43-.59-.52 0-1.04.2-1.43.59L10.3 9.45l-7.72 7.72c-.78.78-.78 2.05 0 2.83L4 21.41c.39.39.9.59 1.41.59.51 0 1.02-.2 1.41-.59l7.78-7.78 2.81-2.81c.8-.78.8-2.07 0-2.86zM5.41 20L4 18.59l7.72-7.72 1.47 1.35L5.41 20z\"/>\n",
              "  </svg>\n",
              "      </button>\n",
              "      \n",
              "  <style>\n",
              "    .colab-df-container {\n",
              "      display:flex;\n",
              "      flex-wrap:wrap;\n",
              "      gap: 12px;\n",
              "    }\n",
              "\n",
              "    .colab-df-convert {\n",
              "      background-color: #E8F0FE;\n",
              "      border: none;\n",
              "      border-radius: 50%;\n",
              "      cursor: pointer;\n",
              "      display: none;\n",
              "      fill: #1967D2;\n",
              "      height: 32px;\n",
              "      padding: 0 0 0 0;\n",
              "      width: 32px;\n",
              "    }\n",
              "\n",
              "    .colab-df-convert:hover {\n",
              "      background-color: #E2EBFA;\n",
              "      box-shadow: 0px 1px 2px rgba(60, 64, 67, 0.3), 0px 1px 3px 1px rgba(60, 64, 67, 0.15);\n",
              "      fill: #174EA6;\n",
              "    }\n",
              "\n",
              "    [theme=dark] .colab-df-convert {\n",
              "      background-color: #3B4455;\n",
              "      fill: #D2E3FC;\n",
              "    }\n",
              "\n",
              "    [theme=dark] .colab-df-convert:hover {\n",
              "      background-color: #434B5C;\n",
              "      box-shadow: 0px 1px 3px 1px rgba(0, 0, 0, 0.15);\n",
              "      filter: drop-shadow(0px 1px 2px rgba(0, 0, 0, 0.3));\n",
              "      fill: #FFFFFF;\n",
              "    }\n",
              "  </style>\n",
              "\n",
              "      <script>\n",
              "        const buttonEl =\n",
              "          document.querySelector('#df-3072762d-bfd5-4573-b0f5-7c9cd05b1f53 button.colab-df-convert');\n",
              "        buttonEl.style.display =\n",
              "          google.colab.kernel.accessAllowed ? 'block' : 'none';\n",
              "\n",
              "        async function convertToInteractive(key) {\n",
              "          const element = document.querySelector('#df-3072762d-bfd5-4573-b0f5-7c9cd05b1f53');\n",
              "          const dataTable =\n",
              "            await google.colab.kernel.invokeFunction('convertToInteractive',\n",
              "                                                     [key], {});\n",
              "          if (!dataTable) return;\n",
              "\n",
              "          const docLinkHtml = 'Like what you see? Visit the ' +\n",
              "            '<a target=\"_blank\" href=https://colab.research.google.com/notebooks/data_table.ipynb>data table notebook</a>'\n",
              "            + ' to learn more about interactive tables.';\n",
              "          element.innerHTML = '';\n",
              "          dataTable['output_type'] = 'display_data';\n",
              "          await google.colab.output.renderOutput(dataTable, element);\n",
              "          const docLink = document.createElement('div');\n",
              "          docLink.innerHTML = docLinkHtml;\n",
              "          element.appendChild(docLink);\n",
              "        }\n",
              "      </script>\n",
              "    </div>\n",
              "  </div>\n",
              "  "
            ]
          },
          "metadata": {},
          "execution_count": 102
        }
      ]
    },
    {
      "cell_type": "code",
      "source": [
        "df_test.drop(['Text'], axis = 1).to_csv('submission.csv', index = False)\n"
      ],
      "metadata": {
        "id": "82YPgf7RoZsb"
      },
      "execution_count": 103,
      "outputs": []
    },
    {
      "cell_type": "markdown",
      "source": [
        "**Score: 0.92653 (From kaggle)**"
      ],
      "metadata": {
        "id": "K6qxu_Awozh6"
      }
    },
    {
      "cell_type": "markdown",
      "source": [
        "**Change hyperparameter(s) and record the results**  \n",
        "This week we learned different loss functionss of NMF, which corresponds to beta_loss hyperparam of sklearn.decomposition.NMF  \n",
        "beta_lossfloat or {‘frobenius’, ‘kullback-leibler’, ‘itakura-saito’}, default=’frobenius’  \n",
        "Lets try ‘kullback-leibler’, ‘itakura-saito’  "
      ],
      "metadata": {
        "id": "Idif2kJ77VZO"
      }
    },
    {
      "cell_type": "code",
      "source": [
        "model_kl = NMF(n_components=5, random_state=42, solver = 'mu', beta_loss = 'kullback-leibler')\n",
        "W_kl = model_kl.fit_transform(X)\n",
        "predicted_label_kl = np.squeeze(np.asarray(W_kl.argmax(axis=1)))\n",
        "label_to_categ_kl = {}\n",
        "for i in range(5):\n",
        "  label_to_categ_kl[i] = df_train.iloc[np.where(predicted_label_kl == i)[0]]['Category'].value_counts().idxmax()\n",
        "print(label_to_categ_kl)\n",
        "test_pred_categ_kl = np.vectorize(label_to_categ_kl.get)(model_kl.transform(vect.transform(df_test['Text'].apply(preprocessDataset))).argmax(axis=1))\n",
        "df_test['Category'] = test_pred_categ_kl\n",
        "df_test.drop(['Text'], axis = 1).to_csv('submission_kl.csv', index = False)"
      ],
      "metadata": {
        "colab": {
          "base_uri": "https://localhost:8080/"
        },
        "id": "oWQLczRc7UrF",
        "outputId": "2d4514ed-11ba-45d7-baf3-874abf596d81"
      },
      "execution_count": 104,
      "outputs": [
        {
          "output_type": "stream",
          "name": "stdout",
          "text": [
            "{0: 'sport', 1: 'politics', 2: 'tech', 3: 'entertainment', 4: 'business'}\n"
          ]
        }
      ]
    },
    {
      "cell_type": "markdown",
      "source": [
        "**Score: 0.94013 (From kaggle)**"
      ],
      "metadata": {
        "id": "LYpOXq-69GwV"
      }
    },
    {
      "cell_type": "markdown",
      "source": [
        "Note that for beta_loss <= 0 (or ‘itakura-saito’), the input matrix X cannot contain zeros. So we need to add a small positive number."
      ],
      "metadata": {
        "id": "hIkd99Vc_G-p"
      }
    },
    {
      "cell_type": "code",
      "source": [
        "model_is = NMF(n_components=5, random_state=42, solver = 'mu', beta_loss = 'itakura-saito')\n",
        "W_is = model_is.fit_transform(X.todense()+0.00000001)\n",
        "predicted_label_is = np.squeeze(np.asarray(W_is.argmax(axis=1)))\n",
        "label_to_categ_is = {}\n",
        "for i in range(5):\n",
        "  label_to_categ_is[i] = df_train.iloc[np.where(predicted_label_is == i)[0]]['Category'].value_counts().idxmax()\n",
        "print(label_to_categ_is)\n",
        "test_pred_categ_is = np.vectorize(label_to_categ_is.get)(model_is.transform(vect.transform(df_test['Text'].apply(preprocessDataset)).todense()+0.00000001).argmax(axis=1))\n",
        "df_test['Category'] = test_pred_categ_is\n",
        "df_test.drop(['Text'], axis = 1).to_csv('submission_is.csv', index = False)"
      ],
      "metadata": {
        "colab": {
          "base_uri": "https://localhost:8080/"
        },
        "id": "rnmdYPq_oeaE",
        "outputId": "2e103f64-7eee-488a-f978-4b9c9607ca14"
      },
      "execution_count": 105,
      "outputs": [
        {
          "output_type": "stream",
          "name": "stdout",
          "text": [
            "{0: 'sport', 1: 'politics', 2: 'tech', 3: 'entertainment', 4: 'business'}\n"
          ]
        }
      ]
    },
    {
      "cell_type": "markdown",
      "source": [
        "**Score: 0.54829 (From kaggle)**  \n",
        "**So itakura-saito is not a good fit for this project**"
      ],
      "metadata": {
        "id": "2o1Wq0YiBLVS"
      }
    },
    {
      "cell_type": "markdown",
      "source": [
        "**Improve the model performance**"
      ],
      "metadata": {
        "id": "P7QrEhIABxQJ"
      }
    },
    {
      "cell_type": "markdown",
      "source": [
        "We can see from above that kullback-leibler loss function gives best accuracy Score: 0.94013, let's shift focus on word embedding part to see if we can tune for better performance.  \n",
        "We will tune param  \n",
        "min_df, float or int, default=1  \n",
        "When building the vocabulary ignore terms that have a document frequency strictly lower than the given threshold. This value is also called cut-off in the literature.  \n",
        "Lets try value 10, 50, 100"
      ],
      "metadata": {
        "id": "_9oNmuyaBzpq"
      }
    },
    {
      "cell_type": "code",
      "source": [
        "for min_df in [10,50,100]:\n",
        "  vect = TfidfVectorizer(min_df = min_df)\n",
        "  X = vect.fit_transform(df_train.TextCleaned)\n",
        "  model_kl = NMF(n_components=5, random_state=42, solver = 'mu', beta_loss = 'kullback-leibler')\n",
        "  W_kl = model_kl.fit_transform(X)\n",
        "  predicted_label_kl = np.squeeze(np.asarray(W_kl.argmax(axis=1)))\n",
        "  label_to_categ_kl = {}\n",
        "  for i in range(5):\n",
        "    label_to_categ_kl[i] = df_train.iloc[np.where(predicted_label_kl == i)[0]]['Category'].value_counts().idxmax()\n",
        "  print(label_to_categ_kl)\n",
        "  test_pred_categ_kl = np.vectorize(label_to_categ_kl.get)(model_kl.transform(vect.transform(df_test['Text'].apply(preprocessDataset))).argmax(axis=1))\n",
        "  df_test['Category'] = test_pred_categ_kl\n",
        "  df_test.drop(['Text'], axis = 1).to_csv('min_df_'+str(min_df)+'_submission_kl.csv', index = False)"
      ],
      "metadata": {
        "colab": {
          "base_uri": "https://localhost:8080/"
        },
        "id": "qEBWRxgg-ues",
        "outputId": "6b8eec47-104a-4376-baf7-e8de5a8143c1"
      },
      "execution_count": 106,
      "outputs": [
        {
          "output_type": "stream",
          "name": "stdout",
          "text": [
            "{0: 'sport', 1: 'politics', 2: 'business', 3: 'entertainment', 4: 'tech'}\n",
            "{0: 'business', 1: 'sport', 2: 'business', 3: 'entertainment', 4: 'tech'}\n",
            "{0: 'business', 1: 'sport', 2: 'entertainment', 3: 'politics', 4: 'tech'}\n"
          ]
        }
      ]
    },
    {
      "cell_type": "markdown",
      "source": [
        "min_df not set -> Score: 0.94013  \n",
        "min_df 10      -> Score: 0.94013  \n",
        "min_df 50      -> Score: 0.68707  \n",
        "min_df 100     -> Score: 0.87619"
      ],
      "metadata": {
        "id": "7OsFazgKFxy1"
      }
    },
    {
      "cell_type": "markdown",
      "source": [
        "**Maybe because we have already cleaned up stop words and meaningless items, from above comparison, it is best to keep all the terms**"
      ],
      "metadata": {
        "id": "hanDyk2QGhO3"
      }
    },
    {
      "cell_type": "markdown",
      "source": [
        "# Compare with supervised learning"
      ],
      "metadata": {
        "id": "qfrpTsOGHCcV"
      }
    },
    {
      "cell_type": "markdown",
      "source": [
        "**We will use RandomForestClassifier here**"
      ],
      "metadata": {
        "id": "3udsFDILHj5p"
      }
    },
    {
      "cell_type": "code",
      "source": [
        "from sklearn.ensemble import RandomForestClassifier\n"
      ],
      "metadata": {
        "id": "EtseDw77FDEz"
      },
      "execution_count": 107,
      "outputs": []
    },
    {
      "cell_type": "code",
      "source": [
        "rfc = RandomForestClassifier(random_state=42)\n"
      ],
      "metadata": {
        "id": "t2zoPfDPJjZu"
      },
      "execution_count": 108,
      "outputs": []
    },
    {
      "cell_type": "code",
      "source": [
        "rfc.fit(X, df_train.Category)"
      ],
      "metadata": {
        "colab": {
          "base_uri": "https://localhost:8080/"
        },
        "id": "O0S4xeaRJ7Vj",
        "outputId": "9f8451ce-5af8-4026-b2d2-51a5ed70037d"
      },
      "execution_count": 109,
      "outputs": [
        {
          "output_type": "execute_result",
          "data": {
            "text/plain": [
              "RandomForestClassifier(random_state=42)"
            ]
          },
          "metadata": {},
          "execution_count": 109
        }
      ]
    },
    {
      "cell_type": "code",
      "source": [
        "# training data predict accuracy\n",
        "rfc.score(X, df_train.Category)"
      ],
      "metadata": {
        "colab": {
          "base_uri": "https://localhost:8080/"
        },
        "id": "Zl77anh7KGzv",
        "outputId": "0ca56bf0-7556-4134-c05e-0f439565ec73"
      },
      "execution_count": 113,
      "outputs": [
        {
          "output_type": "execute_result",
          "data": {
            "text/plain": [
              "1.0"
            ]
          },
          "metadata": {},
          "execution_count": 113
        }
      ]
    },
    {
      "cell_type": "code",
      "source": [
        "df_test['Category'] = rfc.predict(vect.transform(df_test['Text'].apply(preprocessDataset)))\n",
        "df_test.drop(['Text'], axis = 1).to_csv('submission_rfc.csv', index = False)\n"
      ],
      "metadata": {
        "id": "-zwVPIyQKQWR"
      },
      "execution_count": 112,
      "outputs": []
    },
    {
      "cell_type": "markdown",
      "source": [
        "**Score: 0.94557 (From kaggle)**"
      ],
      "metadata": {
        "id": "z1v1KrItK6lt"
      }
    },
    {
      "cell_type": "markdown",
      "source": [
        "changing the train data size (e.g., Include only 10%, 20%, 50% of labels, and observe train/test performance changes). Which methods are data-efficient (require a smaller amount of data to achieve similar results)? "
      ],
      "metadata": {
        "id": "h96IyOO_LLLH"
      }
    },
    {
      "cell_type": "code",
      "source": [
        "for frac in [0.1,0.2,0.5]:\n",
        "  df_train_sample = df_train.sample(frac=frac, random_state=42)\n",
        "  df_train_sample['TextCleaned'] = df_train_sample['Text'].apply(preprocessDataset)\n",
        "  #nmf kl\n",
        "  vect = TfidfVectorizer()\n",
        "  X = vect.fit_transform(df_train_sample.TextCleaned)\n",
        "  model_kl = NMF(n_components=5, random_state=42, solver = 'mu', beta_loss = 'kullback-leibler')\n",
        "  W_kl = model_kl.fit_transform(X)\n",
        "  predicted_label_kl = np.squeeze(np.asarray(W_kl.argmax(axis=1)))\n",
        "  label_to_categ_kl = {}\n",
        "  for i in range(5):\n",
        "    label_to_categ_kl[i] = df_train_sample.iloc[np.where(predicted_label_kl == i)[0]]['Category'].value_counts().idxmax()\n",
        "  print(label_to_categ_kl)\n",
        "  test_pred_categ_kl = np.vectorize(label_to_categ_kl.get)(model_kl.transform(vect.transform(df_test['Text'].apply(preprocessDataset))).argmax(axis=1))\n",
        "  df_test['Category'] = test_pred_categ_kl\n",
        "  df_test.drop(['Text'], axis = 1).to_csv('submission_kl_frac'+str(frac)+'.csv', index = False)\n",
        "  #rfc\n",
        "  rfc = RandomForestClassifier(random_state=42)\n",
        "  rfc.fit(X, df_train_sample.Category)\n",
        "  df_test['Category'] = rfc.predict(vect.transform(df_test['Text'].apply(preprocessDataset)))\n",
        "  df_test.drop(['Text'], axis = 1).to_csv('submission_rfc_frac'+str(frac)+'.csv', index = False)"
      ],
      "metadata": {
        "colab": {
          "base_uri": "https://localhost:8080/"
        },
        "id": "4uGVDqygKiTj",
        "outputId": "369cae47-43d3-40ae-f1f5-27ad699ad594"
      },
      "execution_count": 114,
      "outputs": [
        {
          "output_type": "stream",
          "name": "stdout",
          "text": [
            "{0: 'tech', 1: 'politics', 2: 'entertainment', 3: 'business', 4: 'sport'}\n",
            "{0: 'sport', 1: 'politics', 2: 'business', 3: 'entertainment', 4: 'tech'}\n",
            "{0: 'tech', 1: 'politics', 2: 'sport', 3: 'entertainment', 4: 'business'}\n"
          ]
        }
      ]
    },
    {
      "cell_type": "markdown",
      "source": [
        "10% train data  \n",
        "\n",
        "\n",
        "*   NMF (kl) Score: 0.82857\n",
        "*   RandomForestClassifier Score: 0.84897\n",
        "\n",
        "20% train data  \n",
        "\n",
        "\n",
        "*   NMF (kl) Score: 0.93197\n",
        "*   RandomForestClassifier Score: 0.93605\n",
        "\n",
        "50% train data  \n",
        "\n",
        "\n",
        "*   NMF (kl) Score: 0.91564\n",
        "*   RandomForestClassifier Score: 0.95102  \n",
        "\n",
        "100% train data  \n",
        "\n",
        "\n",
        "*   NMF (kl) Score: 0.94013 \n",
        "*   RandomForestClassifier Score: 0.94557"
      ],
      "metadata": {
        "id": "uazdYr3ORJfd"
      }
    },
    {
      "cell_type": "markdown",
      "source": [
        "**Observation**  \n",
        "\n",
        "\n",
        "*   Both NMF and RFC are data-efficient that 20% of training data can produce good results >90% test accuracy, NMF works slightly better comparing the improvement from 10% training data to 20%\n",
        "*   RFC with 100% training data has overfitting problem, it can get 1.0 accuracy for training data while <95% for testing data\n",
        "\n"
      ],
      "metadata": {
        "id": "h84SW9QXFX-V"
      }
    },
    {
      "cell_type": "code",
      "source": [
        ""
      ],
      "metadata": {
        "id": "90gcr_XuQ1E2"
      },
      "execution_count": null,
      "outputs": []
    }
  ]
}